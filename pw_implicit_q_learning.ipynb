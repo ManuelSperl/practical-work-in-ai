version https://git-lfs.github.com/spec/v1
oid sha256:0ff47fa7ba2349397caf1aa363f6f17f9623d3392fe0cc5cb926172ce2227f56
size 108240643
