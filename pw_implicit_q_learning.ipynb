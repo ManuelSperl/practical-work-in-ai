version https://git-lfs.github.com/spec/v1
oid sha256:08c036c16b39a2dcc0afb8476761ff620f9f3b87c2982e2522e6d24a8ad839bd
size 108251974
